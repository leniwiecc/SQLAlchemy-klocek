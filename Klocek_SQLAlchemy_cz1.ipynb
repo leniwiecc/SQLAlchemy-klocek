{
  "nbformat": 4,
  "nbformat_minor": 0,
  "metadata": {
    "colab": {
      "name": "Kopia notatnika Klocek SQLAlchemy ",
      "provenance": [],
      "collapsed_sections": [],
      "authorship_tag": "ABX9TyNUQgyxWO3+RoqF25reVoqs",
      "include_colab_link": true
    },
    "kernelspec": {
      "name": "python3",
      "display_name": "Python 3"
    },
    "language_info": {
      "name": "python"
    }
  },
  "cells": [
    {
      "cell_type": "markdown",
      "metadata": {
        "id": "view-in-github",
        "colab_type": "text"
      },
      "source": [
        "<a href=\"https://colab.research.google.com/github/leniwiecc/SQLAlchemy-klocek/blob/main/Klocek_SQLAlchemy_cz1.ipynb\" target=\"_parent\"><img src=\"https://colab.research.google.com/assets/colab-badge.svg\" alt=\"Open In Colab\"/></a>"
      ]
    },
    {
      "cell_type": "markdown",
      "source": [
        "# Instalacja i konfiguracja sqlalchemy. \n",
        "Mam nadzieję że wszystko będzie jasne i czytelne. Jak coś nie gra to pisać śmiało. Nie gryzę :D\n",
        "1.\tSprawdzamy poleceniem pip czy mamy zainstalowaną bibliotekę flask_sqlalchemy. (pip3 freeze)\n",
        "2.\tJeżeli nie no instalujemy: pip3 install flask_sqlalchemy\n"
      ],
      "metadata": {
        "id": "EIi2n6Ah-X3v"
      }
    },
    {
      "cell_type": "code",
      "source": [
        " pip3 install flask_sqlalchemy"
      ],
      "metadata": {
        "id": "Udiuo8Y2-f5b"
      },
      "execution_count": null,
      "outputs": []
    },
    {
      "cell_type": "markdown",
      "source": [
        "Aby zacząć zabawę z FlaskAlchemy musimy ją dodać do naszej aplikacji. Wklejamy do naszego kodu nastpeujące linie:"
      ],
      "metadata": {
        "id": "9f9dqAM0-h4N"
      }
    },
    {
      "cell_type": "code",
      "source": [
        "from flask_sqlalchemy import SQLAlchemy\n",
        "\n",
        "\n",
        "app=Flask(__name__)\n",
        "app.config['SQLALCHEMY_TRACK_MODIFICATIONS'] = False\n",
        "app.config['SQLALCHEMY_DATABASE_URI'] = 'sqlite:///db_test.db'\n",
        " ## UWAGA: db_test można zamienić na własną nazwkę \n",
        "\n",
        "db = SQLAlchemy(app)\n",
        "\n"
      ],
      "metadata": {
        "id": "XJWWfghN-wCC"
      },
      "execution_count": null,
      "outputs": []
    },
    {
      "cell_type": "markdown",
      "source": [
        "Teraz musimy stworzyć naszą pierszą tabelę:"
      ],
      "metadata": {
        "id": "aE_f2wl1_WuL"
      }
    },
    {
      "cell_type": "code",
      "source": [
        "class USERS(db.Model):\n",
        "    id = db.Column(db.Integer, primary_key=True)\n",
        "    user= db.Column(db.String(20), nullable=False, unique=True)\n",
        "    password= db.Column(db.String(20), nullable=False)\n",
        "    mail=db.Column(db.String(50), nullable=False, unique=True)\n",
        "    city=db.Column(bd.String(200), nullable=True)\n",
        "    date_jointed = db.Column(db.Date, default = datetime.date.today())\n",
        "    "
      ],
      "metadata": {
        "id": "ZSO4lIus_j-S"
      },
      "execution_count": null,
      "outputs": []
    },
    {
      "cell_type": "markdown",
      "source": [
        "Kolumna id: db.column(db.Integer) <- tak definiujemy pole (kolumnę) i przyjmujemy że będą w niej tylko liczby całkowite. Przyjęło się że pole id to numer indetyfikacyjny dla danego wpisu. Taki 'pesel'. Jednoznacznie określa dany, konretny wpis. Aby system wiedział, że to jest to specjalne pole dodajmy komendę: primary_key=True. "
      ],
      "metadata": {
        "id": "_E5W1euW_8Pi"
      }
    },
    {
      "cell_type": "markdown",
      "source": [
        "Kolumna user. Definiujmey kolumnę, ustawiamy że przechowywany tu będzie tekst o długości do 20 znaków. Możemy to zmienić na 5 , 24, 254. Komenda nullable=False informuje system że ta wartość musi zostać określona. Nie można dodać wpisu bez wartości usera. Metoda unique=True informuje nas że tylko 1 wpis może posiadać taką nazwę. Jeżeli sie gdzieś próbowaliście zarejstrować być może zdarzyło wam się dostać komunikat: taki użytkownik już istnieje. Podaj inną nazwę. "
      ],
      "metadata": {
        "id": "9ZnVRY_7Dm_2"
      }
    },
    {
      "cell_type": "markdown",
      "source": [
        "Kolumna city: jak wyżej. Definiujemy skąd pochodzi dany użytkownik. Dodając metodę nullable=True uznajemy że nie każdy użytkownik chce podawać miasto z którgo pochodzi. Nie każdy chce się dzielić informacją że pochodzi z Sosnowca :D"
      ],
      "metadata": {
        "id": "GvNFBm7QMzIC"
      }
    },
    {
      "cell_type": "markdown",
      "source": [
        "Kolumna date_jointed: tutaj definiujemy typ pola jako data. Logiczne: data dołączenia i przyjmuje parametr domyślny (czyli jak dodajemy kolejny wpis to nie musimy dodawać pola data_dolaczenia w formularzu. Ona się automatycznie  będzie dodawać. datetime.date.today() to czysty kod pythona. Można to inaczej napisać, można to pominąć i dodać odpowiednią funkcję w chwili dodawania wpisu do bazy. Tutaj mamy dowolność. "
      ],
      "metadata": {
        "id": "pwyLu9aDDe6G"
      }
    },
    {
      "cell_type": "markdown",
      "source": [
        "Czy tylko takie dane możemy wstawiać bo bazy? Ależ nie. Typów danych jest więcej, to jest tylko wstęp do tematu. Jak ktoś ma ochotę to zapraszam do dokumentacji: https://docs.sqlalchemy.org/en/14/core/type_basics.html#generic-types"
      ],
      "metadata": {
        "id": "YKyRh5icEB72"
      }
    },
    {
      "cell_type": "markdown",
      "source": [
        "No dobra, mamy już napisany szkielet tabeli to teraz należy ją zainicjalizować. Możemy to zrobić 'w locie' czyli w konsoli albo w osobnym pliku pythonowskim. Żeby już nie kombinować wszystko poniżej będziemy robić w konsoli. (to odpalmy konsolę/ terminal w miejscu w którym mamy naszą aplikację app.py)"
      ],
      "metadata": {
        "id": "tBfLZXRAEa52"
      }
    },
    {
      "cell_type": "code",
      "source": [
        "from app import db ## z naszej aplikacji pobieram db. \n",
        "from app import  USERS ## to jest nasza klasa którą storzylismy chwilę temu.\n",
        "db.create_all() ## polecenie które tworzy tabelę w bazie danych ."
      ],
      "metadata": {
        "id": "xLt9jbBBE8fl"
      },
      "execution_count": null,
      "outputs": []
    },
    {
      "cell_type": "markdown",
      "source": [
        "Jeżeli nie otrzymaliśmy żandego komunikatu błędu to brawo Wy. Mamy swoją pierwszą tabelę. Zapełnijmy ją przykładowymi danymi:"
      ],
      "metadata": {
        "id": "oe_Y8eXYFoO-"
      }
    },
    {
      "cell_type": "code",
      "source": [
        "nowy_user= USERS(user='rafal', password='rafalto@1', mail='rafal@o2.pl', city='sosnowiec' ) ## definicja nowego użytkownika\n",
        "db.session.add(nowy_user) ## dodajemy wpis do bazy\n",
        "db.session.commit() ## zapisujemy nowy rekord w bazie. \n"
      ],
      "metadata": {
        "id": "0LJUZZqSGCD1"
      },
      "execution_count": null,
      "outputs": []
    },
    {
      "cell_type": "markdown",
      "source": [
        "Proste? 3 linie kodu i wszystko gra. Dane o nowym użytkowniku teraz zostały \n",
        "opisane tu na sztywno. Pamiętajmy że będą one zwykle pochodziły z formularzy \n",
        "i tam będą weryfikowane, więc nie zachodzi tutaj potrzeba ponowngo ich sprawdzania (np czy hasło nie jest za proste)."
      ],
      "metadata": {
        "id": "NdbdVMcbGtd9"
      }
    },
    {
      "cell_type": "markdown",
      "source": [
        "Żeby przejść dalej do zapytań należy mieć jakieś dane w bazie więc powtarzamy dodawanie użytkowników kilka razy. Proste ćwiczenie: skopiuj te 3 linie kodu za każdym razem wpsiując inne imię, hasło, mail. Miasto możemy pominąć. Jeżeli już mamy parę wpisów to możemy przejść dalej."
      ],
      "metadata": {
        "id": "8niUja3mHt9o"
      }
    },
    {
      "cell_type": "markdown",
      "source": [
        "Najprostszym zapytaniem jest pobieranie wpisów z bazy:"
      ],
      "metadata": {
        "id": "W7rLCeveH95S"
      }
    },
    {
      "cell_type": "code",
      "source": [
        "users= USERS.query.all()\n",
        "\n",
        "for user in users:\n",
        "  print(user.id, user.name, user.date_jointed)"
      ],
      "metadata": {
        "id": "BWZGH28GH_by"
      },
      "execution_count": null,
      "outputs": []
    },
    {
      "cell_type": "markdown",
      "source": [
        "Czyli pobieramy wszystkie wpisy z bazy (.all) i później je wypisujemy w pętli. Jeżeli chemy zobaczyć ile mamy wpisów w bazie to na końcu dopiszemy jeszcze: .count()"
      ],
      "metadata": {
        "id": "9O9gGADNIgPM"
      }
    },
    {
      "cell_type": "code",
      "source": [
        "users = USERS.query.count()"
      ],
      "metadata": {
        "id": "YoOehauSIN9W"
      },
      "execution_count": null,
      "outputs": []
    },
    {
      "cell_type": "markdown",
      "source": [
        "Jeżeli chcemy te dane jakoś posortować to robimy to metodą .order_br(nazwa_kolumny.desc/ asc) <- czyli sortujemy po danej kolumnie rosnąco lub malejąco\n",
        "\n"
      ],
      "metadata": {
        "id": "6lXDd33PJS2W"
      }
    },
    {
      "cell_type": "code",
      "source": [
        "users = USERS.query.order_by(USERS.date_jointed.asc()).all()"
      ],
      "metadata": {
        "id": "p-MgPcUTLbAF"
      },
      "execution_count": null,
      "outputs": []
    },
    {
      "cell_type": "markdown",
      "source": [
        "A teraz coś ciekawszego: filtrowanie. Na przykład chemy pobrać wszystkich użykowników pochodzących z np: Wrocławia"
      ],
      "metadata": {
        "id": "uobXRvxJMMde"
      }
    },
    {
      "cell_type": "code",
      "source": [
        "users=USERS.query.filter_by(city='Wrocław').all() ## pobieranie wszystkich użytkowniów z  Wrocławia\n",
        "users=USERS.query.filter_by(city='Wrocław').count() ## dostaniemy liczbę użytkowników z Wrocławia."
      ],
      "metadata": {
        "id": "MmVPbiAHORN7"
      },
      "execution_count": null,
      "outputs": []
    },
    {
      "cell_type": "markdown",
      "source": [
        "**UWAGA**: metoda .all() pobiera wszystie wyniki (spełniające kryteria filtrów) i zwraca **listę obiektów**. Jeżeli mamy 3 wyniki to zmienna users 3 obiektami (zachowujacym sie jak lista). I każdy z tych elementów też będzie obiektem. Nawet jak będzie to wynik 1 wierszowy to dostajemy obiekt. Ale możemy to lekko zmodyikować zmienając metodę .all() na .first()\n",
        "**Dajcie znać czy to jest jasne, zrozumiałe**"
      ],
      "metadata": {
        "id": "TgmXftV-PUwI"
      }
    },
    {
      "cell_type": "markdown",
      "source": [
        "**Aktualizacja wypisów**\n",
        "Mamy już użytkowniów w bazie ale musimy nieco zmdyfikować dane. Np: użytkownik chce zmienic swój email. "
      ],
      "metadata": {
        "id": "xz_uvFV5hgNU"
      }
    },
    {
      "cell_type": "code",
      "source": [
        "user_to_update = USERS.query.filter_by(name = 'rafal').first() ## wiemy że dostaniemy tylko 1 wynik. Musimy mieć zdefiniowany konkretny wpis który chcemy zmodyfikowac.\n",
        "user_to_update.mail = 'nowy@mail.com' ## przypisujemy nową wartość\n",
        "db.session.commit() ## zatwierdzamy zmianny. I gotowe. "
      ],
      "metadata": {
        "id": "28knGbhLhwhl"
      },
      "execution_count": null,
      "outputs": []
    },
    {
      "cell_type": "markdown",
      "source": [
        "**Usuwanie wpisów.**\n",
        "Usuwanie wpisów jest dość podobne do uaktualniania"
      ],
      "metadata": {
        "id": "RzbHUCypmKlJ"
      }
    },
    {
      "cell_type": "code",
      "source": [
        "user_to_delate= = USERS.query.filter_by(name = 'rafal').first() \n",
        "db.session.delete(user_to_delate)\n",
        "db.session.commit() ## zatwierdzamy zmianny. I gotowe. "
      ],
      "metadata": {
        "id": "7rhEiTnmQc3f"
      },
      "execution_count": null,
      "outputs": []
    },
    {
      "cell_type": "markdown",
      "source": [
        "**Zaawansowane filtrowanie**\n",
        "Oczywiście że możemy filtrować nasze dane w bardziej zaawansowany sposób. "
      ],
      "metadata": {
        "id": "rgoN8hIwoT2l"
      }
    },
    {
      "cell_type": "code",
      "source": [
        "user = USER.db.query.filter(USER.city.like('%Góra%')).all() "
      ],
      "metadata": {
        "id": "Nc3ENzn5tITX"
      },
      "execution_count": null,
      "outputs": []
    },
    {
      "cell_type": "markdown",
      "source": [
        "Powyższe zaspytanie szuka wszystkich użytkowników którzy mieszkają w mieście ze słowem Góra. Czyli: z Jelenia Góra, Biała Góra, Góra Mała itp... Możemy też dodać więcej kryteriów szukania:"
      ],
      "metadata": {
        "id": "mCNCFgyHtdP4"
      }
    },
    {
      "cell_type": "code",
      "source": [
        "user = USER.db.query.filter(USER.city.like('%Góra%'), USER.name.like('Bar%')).all() "
      ],
      "metadata": {
        "id": "VDd1s9PMtwLE"
      },
      "execution_count": null,
      "outputs": []
    },
    {
      "cell_type": "markdown",
      "source": [
        "Jak wyżej tylko teraz imię musi zaczynać się od znaków Bar. Np: Bartek, Bartosza, Bartłomiej, Barbara itp....\n",
        "> Koniec części pierwszej. Dajcie znać czy wszystko jest jasne i czytelne. W następnej części będzie trochę teorii o relacjach i zbudujemy bardziej rozbudowaną bazę :)"
      ],
      "metadata": {
        "id": "D6QZ27A-t_cj"
      }
    }
  ]
}